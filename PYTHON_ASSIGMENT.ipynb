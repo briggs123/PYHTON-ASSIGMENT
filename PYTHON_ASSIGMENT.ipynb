{
  "cells": [
    {
      "cell_type": "markdown",
      "metadata": {
        "id": "view-in-github",
        "colab_type": "text"
      },
      "source": [
        "<a href=\"https://colab.research.google.com/github/briggs123/PYHTON-ASSIGMENT/blob/main/PYTHON_ASSIGMENT.ipynb\" target=\"_parent\"><img src=\"https://colab.research.google.com/assets/colab-badge.svg\" alt=\"Open In Colab\"/></a>"
      ]
    },
    {
      "cell_type": "markdown",
      "source": [
        "PYTHON ASSIGNMENT-1 [1199]"
      ],
      "metadata": {
        "id": "feazTfc84TMy"
      },
      "id": "feazTfc84TMy"
    },
    {
      "cell_type": "code",
      "execution_count": null,
      "id": "e31c9f73",
      "metadata": {
        "id": "e31c9f73",
        "outputId": "5d5c4866-c017-47c2-ace7-914cb0a9ad09"
      },
      "outputs": [
        {
          "name": "stdout",
          "output_type": "stream",
          "text": [
            "[1, 4, 7, 3, 4]\n"
          ]
        }
      ],
      "source": [
        "koushik=[1,4,7,3,4]\n",
        "print(koushik)"
      ]
    },
    {
      "cell_type": "code",
      "execution_count": null,
      "id": "673aa184",
      "metadata": {
        "id": "673aa184",
        "outputId": "67475ab6-d087-47e8-a214-1b2516aaf58b"
      },
      "outputs": [
        {
          "name": "stdout",
          "output_type": "stream",
          "text": [
            "5\n"
          ]
        }
      ],
      "source": [
        "koushik=[1,4,7,3,4]\n",
        "print(len(koushik))"
      ]
    },
    {
      "cell_type": "code",
      "execution_count": null,
      "id": "73c2a3a3",
      "metadata": {
        "id": "73c2a3a3",
        "outputId": "960849e1-eb95-4f8a-dca8-20dd40e43aff"
      },
      "outputs": [
        {
          "name": "stdout",
          "output_type": "stream",
          "text": [
            "[1, 4, 7, 3, 4]\n"
          ]
        }
      ],
      "source": [
        "koushik=list((1,4,7,3,4))\n",
        "print(koushik)"
      ]
    },
    {
      "cell_type": "code",
      "execution_count": null,
      "id": "b12ed4fb",
      "metadata": {
        "id": "b12ed4fb",
        "outputId": "f1e1d0b2-4e3c-4b95-a98b-4746e3666eb6"
      },
      "outputs": [
        {
          "name": "stdout",
          "output_type": "stream",
          "text": [
            "[1, 4, 7, 3, 4]\n",
            "<class 'list'>\n"
          ]
        }
      ],
      "source": [
        "koushik=list((1,4,7,3,4))\n",
        "print(koushik)\n",
        "print(type(koushik))"
      ]
    },
    {
      "cell_type": "code",
      "execution_count": null,
      "id": "9ec8def3",
      "metadata": {
        "id": "9ec8def3",
        "outputId": "ec50030d-a762-4b2d-ecee-35da74bca2dc"
      },
      "outputs": [
        {
          "name": "stdout",
          "output_type": "stream",
          "text": [
            "4\n",
            "3\n",
            "[1, 4, 7]\n",
            "[7, 3, 4]\n",
            "[1, 4, 7]\n",
            "[1, 4]\n"
          ]
        }
      ],
      "source": [
        "koushik=[1,4,7,3,4]\n",
        "print(koushik[1])\n",
        "print(koushik[-2])\n",
        "print(koushik[0:3])\n",
        "print(koushik[2:])\n",
        "print(koushik[:3])\n",
        "print(koushik[-5:-3])"
      ]
    },
    {
      "cell_type": "code",
      "execution_count": null,
      "id": "61724b15",
      "metadata": {
        "id": "61724b15",
        "outputId": "3558777c-e1f8-4aa4-f3ed-6041861fc8f7"
      },
      "outputs": [
        {
          "name": "stdout",
          "output_type": "stream",
          "text": [
            "no it does not present \n"
          ]
        }
      ],
      "source": [
        "koushik=[1,4,7,3,4]\n",
        "if 5 in koushik:\n",
        "    print(\"yes it is present in the list\")\n",
        "else:\n",
        "    print(\"no it does not present \")"
      ]
    },
    {
      "cell_type": "code",
      "execution_count": null,
      "id": "b2941989",
      "metadata": {
        "id": "b2941989",
        "outputId": "8f4dfcc6-f4f8-4dd5-f96f-98835288a77c"
      },
      "outputs": [
        {
          "name": "stdout",
          "output_type": "stream",
          "text": [
            "[1, 'hello', 1, 2, 4]\n"
          ]
        }
      ],
      "source": [
        "koushik=[1,4,7,3,4]\n",
        "koushik[1]=\"hello\"\n",
        "koushik[2:4]=1,2\n",
        "print(koushik)"
      ]
    },
    {
      "cell_type": "code",
      "execution_count": null,
      "id": "aa3c7d13",
      "metadata": {
        "id": "aa3c7d13",
        "outputId": "f6f7751d-971b-4bc0-c8b3-228eada31e42"
      },
      "outputs": [
        {
          "name": "stdout",
          "output_type": "stream",
          "text": [
            "[1, 'orange', 4, 7, 3, 4]\n"
          ]
        }
      ],
      "source": [
        "koushik=[1,4,7,3,4]\n",
        "koushik.insert(1,\"orange\")\n",
        "print(koushik)"
      ]
    },
    {
      "cell_type": "code",
      "execution_count": null,
      "id": "0134918b",
      "metadata": {
        "id": "0134918b",
        "outputId": "a678b671-c9ea-4a34-a093-c403a4547912"
      },
      "outputs": [
        {
          "name": "stdout",
          "output_type": "stream",
          "text": [
            "[1, 4, 7, 3, 4, 'melon']\n"
          ]
        }
      ],
      "source": [
        "koushik=[1,4,7,3,4]\n",
        "koushik.append(\"melon\")\n",
        "print(koushik)"
      ]
    },
    {
      "cell_type": "code",
      "execution_count": null,
      "id": "626c309d",
      "metadata": {
        "id": "626c309d",
        "outputId": "ebcfb78a-c3b7-40d5-94a3-fd1e4f04ae1d"
      },
      "outputs": [
        {
          "name": "stdout",
          "output_type": "stream",
          "text": [
            "[1, 4, 7, 3, 4, 'hey', 'hello']\n",
            "[1, 4, 7, 3, 4, 'hey', 'hello', 56, 76, 89]\n"
          ]
        }
      ],
      "source": [
        "koushik=[1,4,7,3,4]\n",
        "a=[\"hey\",\"hello\"]\n",
        "koushik.extend(a)\n",
        "print(koushik)\n",
        "b=(56,76,89)\n",
        "koushik.extend(b)\n",
        "print(koushik)"
      ]
    },
    {
      "cell_type": "code",
      "execution_count": null,
      "id": "4a81fec5",
      "metadata": {
        "id": "4a81fec5",
        "outputId": "3b38d855-0d0a-44b9-c74d-1176a6c17a10"
      },
      "outputs": [
        {
          "name": "stdout",
          "output_type": "stream",
          "text": [
            "[4, 7, 3, 4]\n"
          ]
        }
      ],
      "source": [
        "koushik=[1,4,7,3,4]\n",
        "koushik.remove(1)\n",
        "print(koushik)"
      ]
    },
    {
      "cell_type": "code",
      "execution_count": null,
      "id": "8f113eb0",
      "metadata": {
        "id": "8f113eb0",
        "outputId": "4dafcc38-4580-49ee-ec27-238b8a52942f"
      },
      "outputs": [
        {
          "name": "stdout",
          "output_type": "stream",
          "text": [
            "[1, 7, 3, 4]\n"
          ]
        }
      ],
      "source": [
        "koushik=[1,4,7,3,4]\n",
        "koushik.pop(1)\n",
        "print(koushik)"
      ]
    },
    {
      "cell_type": "code",
      "execution_count": null,
      "id": "ced7ef95",
      "metadata": {
        "id": "ced7ef95",
        "outputId": "0ea5cc20-e253-45dc-d8ab-d22f9e6d0a8b"
      },
      "outputs": [
        {
          "name": "stdout",
          "output_type": "stream",
          "text": [
            "[1, 7, 3, 4]\n"
          ]
        },
        {
          "ename": "NameError",
          "evalue": "name 'koushik' is not defined",
          "output_type": "error",
          "traceback": [
            "\u001b[1;31m---------------------------------------------------------------------------\u001b[0m",
            "\u001b[1;31mNameError\u001b[0m                                 Traceback (most recent call last)",
            "Input \u001b[1;32mIn [18]\u001b[0m, in \u001b[0;36m<cell line: 5>\u001b[1;34m()\u001b[0m\n\u001b[0;32m      3\u001b[0m \u001b[38;5;28mprint\u001b[39m(koushik)\n\u001b[0;32m      4\u001b[0m \u001b[38;5;28;01mdel\u001b[39;00m koushik\n\u001b[1;32m----> 5\u001b[0m \u001b[38;5;28mprint\u001b[39m(\u001b[43mkoushik\u001b[49m)\n",
            "\u001b[1;31mNameError\u001b[0m: name 'koushik' is not defined"
          ]
        }
      ],
      "source": [
        "koushik=[1,4,7,3,4]\n",
        "del koushik[1]\n",
        "print(koushik)\n",
        "del koushik\n",
        "print(koushik) #gives error as the list is deleted"
      ]
    },
    {
      "cell_type": "code",
      "execution_count": null,
      "id": "9571df18",
      "metadata": {
        "id": "9571df18",
        "outputId": "6eddcc65-81ec-4843-c118-592afb29bf34"
      },
      "outputs": [
        {
          "name": "stdout",
          "output_type": "stream",
          "text": [
            "[]\n"
          ]
        }
      ],
      "source": [
        "koushik=[1,4,7,3,4]\n",
        "koushik.clear()\n",
        "print(koushik)"
      ]
    },
    {
      "cell_type": "code",
      "execution_count": null,
      "id": "60440397",
      "metadata": {
        "id": "60440397",
        "outputId": "020e24e1-82a8-4743-c643-bdfca8817a2e"
      },
      "outputs": [
        {
          "name": "stdout",
          "output_type": "stream",
          "text": [
            "1\n",
            "4\n",
            "7\n",
            "3\n",
            "4\n"
          ]
        }
      ],
      "source": [
        "koushik=[1,4,7,3,4]\n",
        "for x in koushik:\n",
        "    print(x)"
      ]
    },
    {
      "cell_type": "code",
      "execution_count": null,
      "id": "17f02faa",
      "metadata": {
        "id": "17f02faa",
        "outputId": "acb8a70e-5db5-4d8e-cdfb-325ecc3a4984"
      },
      "outputs": [
        {
          "name": "stdout",
          "output_type": "stream",
          "text": [
            "apple\n",
            "orange\n",
            "water melon\n",
            "plum\n",
            "mango\n"
          ]
        }
      ],
      "source": [
        "koushik=[\"apple\",\"orange\",\"water melon\",\"plum\",\"mango\"]\n",
        "for x in range(len(koushik)):\n",
        "    print(koushik[x])"
      ]
    },
    {
      "cell_type": "code",
      "execution_count": null,
      "id": "31e3d0dd",
      "metadata": {
        "id": "31e3d0dd",
        "outputId": "a38c5e99-b217-4aa7-bf71-960fc734a6b0"
      },
      "outputs": [
        {
          "name": "stdout",
          "output_type": "stream",
          "text": [
            "apple\n",
            "orange\n",
            "water melon\n",
            "mango\n"
          ]
        }
      ],
      "source": [
        "koushik=[\"apple\",\"orange\",\"water melon\",\"plum\",\"mango\"]\n",
        "for x in koushik:\n",
        "    if \"a\" in x:\n",
        "        print(x)"
      ]
    },
    {
      "cell_type": "code",
      "execution_count": null,
      "id": "816b9408",
      "metadata": {
        "id": "816b9408",
        "outputId": "c58cddf0-1d9a-48ca-942c-5f398520ec61"
      },
      "outputs": [
        {
          "name": "stdout",
          "output_type": "stream",
          "text": [
            "apple\n",
            "orange\n",
            "water melon\n",
            "plum\n",
            "mango\n"
          ]
        }
      ],
      "source": [
        "koushik=[\"apple\",\"orange\",\"water melon\",\"plum\",\"mango\"]\n",
        "i=0\n",
        "while i<(len(koushik)):\n",
        "    print(koushik[i])\n",
        "    i=i+1"
      ]
    },
    {
      "cell_type": "code",
      "execution_count": null,
      "id": "886f153a",
      "metadata": {
        "id": "886f153a",
        "outputId": "5ee4ff34-fe65-4fcb-ee18-5e0087c5a081"
      },
      "outputs": [
        {
          "name": "stdout",
          "output_type": "stream",
          "text": [
            "['apple', 'orange', 'water melon', 'mango']\n"
          ]
        }
      ],
      "source": [
        "koushik=[\"apple\",\"orange\",\"water melon\",\"plum\",\"mango\"]\n",
        "a=[]\n",
        "for x in koushik:\n",
        "    if \"a\" in x:\n",
        "        a.append(x)\n",
        "print(a)"
      ]
    },
    {
      "cell_type": "code",
      "execution_count": null,
      "id": "27147779",
      "metadata": {
        "id": "27147779",
        "outputId": "ef75de23-3a3c-4784-fcce-cd70decabec3"
      },
      "outputs": [
        {
          "name": "stdout",
          "output_type": "stream",
          "text": [
            "['apple', 'mango', 'orange', 'plum', 'water melon']\n",
            "[1, 3, 4, 4, 7]\n",
            "['water melon', 'plum', 'orange', 'mango', 'apple']\n",
            "[7, 4, 4, 3, 1]\n"
          ]
        }
      ],
      "source": [
        "koushik=[\"apple\",\"orange\",\"water melon\",\"plum\",\"mango\"]\n",
        "koushik2=[1,4,7,3,4]\n",
        "koushik.sort()\n",
        "print(koushik)\n",
        "koushik2.sort()\n",
        "print(koushik2)\n",
        "koushik.sort(reverse=True)\n",
        "print(koushik)\n",
        "koushik2.sort(reverse=True)\n",
        "print(koushik2)"
      ]
    },
    {
      "cell_type": "code",
      "execution_count": null,
      "id": "4ececb50",
      "metadata": {
        "id": "4ececb50",
        "outputId": "fa59a07f-4dc5-489f-c3e1-70063da31f5a"
      },
      "outputs": [
        {
          "name": "stdout",
          "output_type": "stream",
          "text": [
            "['apple', 'orange', 'water melon', 'plum', 'mango']\n",
            "[1, 4, 7, 3, 4]\n"
          ]
        }
      ],
      "source": [
        "koushik=[\"apple\",\"orange\",\"water melon\",\"plum\",\"mango\"]\n",
        "koushik2=[1,4,7,3,4]\n",
        "a=[]\n",
        "a=koushik.copy()\n",
        "print(a)\n",
        "b=list(koushik2)\n",
        "print(b)"
      ]
    },
    {
      "cell_type": "code",
      "execution_count": null,
      "id": "529261aa",
      "metadata": {
        "id": "529261aa",
        "outputId": "32167dc2-01b3-4469-9d50-581f66339b28"
      },
      "outputs": [
        {
          "name": "stdout",
          "output_type": "stream",
          "text": [
            "['apple', 'orange', 'water melon', 'plum', 'mango', 1, 4, 7, 3, 4]\n"
          ]
        }
      ],
      "source": [
        "koushik=[\"apple\",\"orange\",\"water melon\",\"plum\",\"mango\"]\n",
        "koushik2=[1,4,7,3,4]\n",
        "koushik3=koushik+koushik2\n",
        "print(koushik3)"
      ]
    },
    {
      "cell_type": "code",
      "execution_count": null,
      "id": "90955bb5",
      "metadata": {
        "id": "90955bb5",
        "outputId": "3f053e4c-472b-4671-a02a-441add2780e9"
      },
      "outputs": [
        {
          "name": "stdout",
          "output_type": "stream",
          "text": [
            "[1, 4, 7, 3, 4, 'apple', 'orange', 'water melon', 'plum', 'mango']\n"
          ]
        }
      ],
      "source": [
        "koushik=[\"apple\",\"orange\",\"water melon\",\"plum\",\"mango\"]\n",
        "koushik2=[1,4,7,3,4] \n",
        "koushik3=[]\n",
        "for x in koushik:\n",
        "    koushik2.append(x)\n",
        "print(koushik2)"
      ]
    },
    {
      "cell_type": "code",
      "execution_count": null,
      "id": "b280b60a",
      "metadata": {
        "id": "b280b60a",
        "outputId": "aa00ce27-c9f3-49da-f35a-e7fe06706545"
      },
      "outputs": [
        {
          "name": "stdout",
          "output_type": "stream",
          "text": [
            "[1, 4, 7, 3, 4, 'apple', 'orange', 'water melon', 'plum', 'mango']\n"
          ]
        }
      ],
      "source": [
        "koushik=[\"apple\",\"orange\",\"water melon\",\"plum\",\"mango\"]\n",
        "koushik2=[1,4,7,3,4] \n",
        "koushik2.extend(koushik)\n",
        "print(koushik2)"
      ]
    },
    {
      "cell_type": "code",
      "execution_count": null,
      "id": "b960269f",
      "metadata": {
        "id": "b960269f",
        "outputId": "888181a6-d577-4332-fcf9-a24c5dea02e3"
      },
      "outputs": [
        {
          "name": "stdout",
          "output_type": "stream",
          "text": [
            "[1, 4, 7, 3, 4, 'apple', 'orange', 'water melon', 'plum', 'mango', 1, 4, 7, 3, 4, 'apple', 'orange', 'water melon', 'plum', 'mango']\n"
          ]
        }
      ],
      "source": [
        "koushik=[\"apple\",\"orange\",\"water melon\",\"plum\",\"mango\"]\n",
        "koushik2=[1,4,7,3,4] \n",
        "koushik2.extend(koushik)\n",
        "print(koushik2*2)"
      ]
    }
  ],
  "metadata": {
    "kernelspec": {
      "display_name": "Python 3 (ipykernel)",
      "language": "python",
      "name": "python3"
    },
    "language_info": {
      "codemirror_mode": {
        "name": "ipython",
        "version": 3
      },
      "file_extension": ".py",
      "mimetype": "text/x-python",
      "name": "python",
      "nbconvert_exporter": "python",
      "pygments_lexer": "ipython3",
      "version": "3.10.4"
    },
    "colab": {
      "name": "PYTHON ASSIGMENT.ipynb",
      "provenance": [],
      "include_colab_link": true
    }
  },
  "nbformat": 4,
  "nbformat_minor": 5
}